{
 "cells": [
  {
   "cell_type": "code",
   "execution_count": 3,
   "id": "666342c4-437d-4bab-96c1-175ece553e27",
   "metadata": {},
   "outputs": [
    {
     "name": "stdout",
     "output_type": "stream",
     "text": [
      "[3, 'apple', 25.3]\n"
     ]
    }
   ],
   "source": [
    "list_a=[3,\"apple\",25.3]\n",
    "print(list_a)"
   ]
  },
  {
   "cell_type": "code",
   "execution_count": 4,
   "id": "782e38f3-1a43-46a4-8d1a-087c46f9f9f9",
   "metadata": {},
   "outputs": [
    {
     "data": {
      "text/plain": [
       "list"
      ]
     },
     "execution_count": 4,
     "metadata": {},
     "output_type": "execute_result"
    }
   ],
   "source": [
    "type(list_a)"
   ]
  },
  {
   "cell_type": "code",
   "execution_count": 5,
   "id": "87ae85b7-b69e-463e-80c7-2e9391dd2729",
   "metadata": {},
   "outputs": [
    {
     "name": "stdout",
     "output_type": "stream",
     "text": [
      "[3, 'apple', 25.3, 'hi']\n"
     ]
    }
   ],
   "source": [
    "list_a.append(\"hi\")\n",
    "print(list_a)"
   ]
  },
  {
   "cell_type": "code",
   "execution_count": 7,
   "id": "e9a65bd5-09f9-4527-b0c1-876759914fe1",
   "metadata": {},
   "outputs": [
    {
     "name": "stdout",
     "output_type": "stream",
     "text": [
      "[3, 'apple', 25.3, 'hi', ['watermelon', 'cherry'], ['watermelon', 'cherry']]\n"
     ]
    }
   ],
   "source": [
    "lst_b=['watermelon','cherry']\n",
    "list_a.append(lst_b)\n",
    "print(list_a)\n"
   ]
  },
  {
   "cell_type": "code",
   "execution_count": 11,
   "id": "84ed9cbf-2dba-479b-8952-099d7d5d8df4",
   "metadata": {},
   "outputs": [
    {
     "name": "stdout",
     "output_type": "stream",
     "text": [
      "[3, 'apple', 25.3, 'hi', ['watermelon', 'cherry'], ['watermelon', 'cherry'], 'watermelon', 'cherry', 'watermelon', 'cherry']\n"
     ]
    }
   ],
   "source": [
    "tuple_a=(lst_b)\n",
    "list_a.extend(tuple_a)\n",
    "print(list_a)"
   ]
  },
  {
   "cell_type": "code",
   "execution_count": 12,
   "id": "64f48f34-8893-45b8-a01d-26a520de7ec3",
   "metadata": {},
   "outputs": [
    {
     "data": {
      "text/plain": [
       "dict_values(['a', 'b', 'c'])"
      ]
     },
     "execution_count": 12,
     "metadata": {},
     "output_type": "execute_result"
    }
   ],
   "source": [
    "dict_c={1:'a',2:'b',3:'c'}\n",
    "dict_c.values()\n"
   ]
  },
  {
   "cell_type": "code",
   "execution_count": 14,
   "id": "5c792ce1-759c-4f61-b391-b08ba476fc88",
   "metadata": {},
   "outputs": [
    {
     "name": "stdout",
     "output_type": "stream",
     "text": [
      "[3, 'apple', 25.3, 'hi', ['watermelon', 'cherry'], ['watermelon', 'cherry'], 'watermelon', 'cherry', 'watermelon', 'cherry', 'a', 'b', 'c']\n"
     ]
    }
   ],
   "source": [
    "list_a.extend(dict_c.values())\n",
    "print(list_a)"
   ]
  },
  {
   "cell_type": "code",
   "execution_count": 15,
   "id": "a75a64c4-91f1-44c5-af25-8a49b88e68a2",
   "metadata": {},
   "outputs": [
    {
     "ename": "AttributeError",
     "evalue": "'dict_values' object has no attribute 'to_list'",
     "output_type": "error",
     "traceback": [
      "\u001b[1;31m---------------------------------------------------------------------------\u001b[0m",
      "\u001b[1;31mAttributeError\u001b[0m                            Traceback (most recent call last)",
      "Cell \u001b[1;32mIn[15], line 2\u001b[0m\n\u001b[0;32m      1\u001b[0m \u001b[38;5;66;03m# converting dictionary into list\u001b[39;00m\n\u001b[1;32m----> 2\u001b[0m dict_c\u001b[38;5;241m.\u001b[39mvalues()\u001b[38;5;241m.\u001b[39mto_list()\n",
      "\u001b[1;31mAttributeError\u001b[0m: 'dict_values' object has no attribute 'to_list'"
     ]
    }
   ],
   "source": [
    "# converting dictionary into list\n",
    "dict_c.values().to_list()"
   ]
  },
  {
   "cell_type": "code",
   "execution_count": 16,
   "id": "908be5dd-779b-4cb4-9098-3fa8e4cdad53",
   "metadata": {},
   "outputs": [
    {
     "name": "stdout",
     "output_type": "stream",
     "text": [
      "[1, 2, 3, 6, 4]\n"
     ]
    }
   ],
   "source": [
    "#inserting in between list \n",
    "# syntax is (self,index,object)\n",
    "mylist=[1,2,3,4]\n",
    "mylist.insert(3,6)\n",
    "print(mylist)"
   ]
  },
  {
   "cell_type": "code",
   "execution_count": 18,
   "id": "0cb423d0-4c6c-40a5-9a50-508e5eea7849",
   "metadata": {},
   "outputs": [
    {
     "name": "stdout",
     "output_type": "stream",
     "text": [
      "[1, 2, 3]\n"
     ]
    }
   ],
   "source": [
    "mylist.pop()\n",
    "print(mylist) #pop removes from last "
   ]
  },
  {
   "cell_type": "code",
   "execution_count": 19,
   "id": "b2e68df7-11e0-4dfb-b20b-104e93699a93",
   "metadata": {},
   "outputs": [
    {
     "name": "stdout",
     "output_type": "stream",
     "text": [
      "[2, 3]\n"
     ]
    }
   ],
   "source": [
    "mylist.pop(0)\n",
    "print(mylist)"
   ]
  },
  {
   "cell_type": "code",
   "execution_count": 20,
   "id": "5907e495-7764-4c5d-8a07-7c7fc8f1f484",
   "metadata": {},
   "outputs": [
    {
     "name": "stdout",
     "output_type": "stream",
     "text": [
      "['apple', 'cat', 'dog']\n"
     ]
    }
   ],
   "source": [
    "# remove function remove given value\n",
    "mylist=['apple','ball','cat','dog']\n",
    "mylist.remove('ball')\n",
    "print(mylist)"
   ]
  },
  {
   "cell_type": "code",
   "execution_count": 21,
   "id": "a87774c4-9e45-4986-8252-1ec5d3190f60",
   "metadata": {},
   "outputs": [
    {
     "name": "stdout",
     "output_type": "stream",
     "text": [
      "[1, 2, 3, 4, 5, 6, 8]\n"
     ]
    }
   ],
   "source": [
    "mylist=[5,6,8,4,2,3,1]\n",
    "mylist.sort()\n",
    "print(mylist)"
   ]
  },
  {
   "cell_type": "code",
   "execution_count": 22,
   "id": "bede45a6-36e0-4c4c-bd6b-f521f2d83c9d",
   "metadata": {},
   "outputs": [
    {
     "name": "stdout",
     "output_type": "stream",
     "text": [
      "[8, 6, 5, 4, 3, 2, 1]\n"
     ]
    }
   ],
   "source": [
    "# reverse sort\n",
    "mylist.sort(reverse=True)\n",
    "print(mylist)"
   ]
  },
  {
   "cell_type": "code",
   "execution_count": 24,
   "id": "1a2d9b2c-1c2d-485d-9a9c-44accc4a46d7",
   "metadata": {},
   "outputs": [
    {
     "name": "stdout",
     "output_type": "stream",
     "text": [
      "Help on list object:\n",
      "\n",
      "class list(object)\n",
      " |  list(iterable=(), /)\n",
      " |\n",
      " |  Built-in mutable sequence.\n",
      " |\n",
      " |  If no argument is given, the constructor creates a new empty list.\n",
      " |  The argument must be an iterable if specified.\n",
      " |\n",
      " |  Methods defined here:\n",
      " |\n",
      " |  __add__(self, value, /)\n",
      " |      Return self+value.\n",
      " |\n",
      " |  __contains__(self, key, /)\n",
      " |      Return bool(key in self).\n",
      " |\n",
      " |  __delitem__(self, key, /)\n",
      " |      Delete self[key].\n",
      " |\n",
      " |  __eq__(self, value, /)\n",
      " |      Return self==value.\n",
      " |\n",
      " |  __ge__(self, value, /)\n",
      " |      Return self>=value.\n",
      " |\n",
      " |  __getattribute__(self, name, /)\n",
      " |      Return getattr(self, name).\n",
      " |\n",
      " |  __getitem__(self, index, /)\n",
      " |      Return self[index].\n",
      " |\n",
      " |  __gt__(self, value, /)\n",
      " |      Return self>value.\n",
      " |\n",
      " |  __iadd__(self, value, /)\n",
      " |      Implement self+=value.\n",
      " |\n",
      " |  __imul__(self, value, /)\n",
      " |      Implement self*=value.\n",
      " |\n",
      " |  __init__(self, /, *args, **kwargs)\n",
      " |      Initialize self.  See help(type(self)) for accurate signature.\n",
      " |\n",
      " |  __iter__(self, /)\n",
      " |      Implement iter(self).\n",
      " |\n",
      " |  __le__(self, value, /)\n",
      " |      Return self<=value.\n",
      " |\n",
      " |  __len__(self, /)\n",
      " |      Return len(self).\n",
      " |\n",
      " |  __lt__(self, value, /)\n",
      " |      Return self<value.\n",
      " |\n",
      " |  __mul__(self, value, /)\n",
      " |      Return self*value.\n",
      " |\n",
      " |  __ne__(self, value, /)\n",
      " |      Return self!=value.\n",
      " |\n",
      " |  __repr__(self, /)\n",
      " |      Return repr(self).\n",
      " |\n",
      " |  __reversed__(self, /)\n",
      " |      Return a reverse iterator over the list.\n",
      " |\n",
      " |  __rmul__(self, value, /)\n",
      " |      Return value*self.\n",
      " |\n",
      " |  __setitem__(self, key, value, /)\n",
      " |      Set self[key] to value.\n",
      " |\n",
      " |  __sizeof__(self, /)\n",
      " |      Return the size of the list in memory, in bytes.\n",
      " |\n",
      " |  append(self, object, /)\n",
      " |      Append object to the end of the list.\n",
      " |\n",
      " |  clear(self, /)\n",
      " |      Remove all items from list.\n",
      " |\n",
      " |  copy(self, /)\n",
      " |      Return a shallow copy of the list.\n",
      " |\n",
      " |  count(self, value, /)\n",
      " |      Return number of occurrences of value.\n",
      " |\n",
      " |  extend(self, iterable, /)\n",
      " |      Extend list by appending elements from the iterable.\n",
      " |\n",
      " |  index(self, value, start=0, stop=9223372036854775807, /)\n",
      " |      Return first index of value.\n",
      " |\n",
      " |      Raises ValueError if the value is not present.\n",
      " |\n",
      " |  insert(self, index, object, /)\n",
      " |      Insert object before index.\n",
      " |\n",
      " |  pop(self, index=-1, /)\n",
      " |      Remove and return item at index (default last).\n",
      " |\n",
      " |      Raises IndexError if list is empty or index is out of range.\n",
      " |\n",
      " |  remove(self, value, /)\n",
      " |      Remove first occurrence of value.\n",
      " |\n",
      " |      Raises ValueError if the value is not present.\n",
      " |\n",
      " |  reverse(self, /)\n",
      " |      Reverse *IN PLACE*.\n",
      " |\n",
      " |  sort(self, /, *, key=None, reverse=False)\n",
      " |      Sort the list in ascending order and return None.\n",
      " |\n",
      " |      The sort is in-place (i.e. the list itself is modified) and stable (i.e. the\n",
      " |      order of two equal elements is maintained).\n",
      " |\n",
      " |      If a key function is given, apply it once to each list item and sort them,\n",
      " |      ascending or descending, according to their function values.\n",
      " |\n",
      " |      The reverse flag can be set to sort in descending order.\n",
      " |\n",
      " |  ----------------------------------------------------------------------\n",
      " |  Class methods defined here:\n",
      " |\n",
      " |  __class_getitem__(...)\n",
      " |      See PEP 585\n",
      " |\n",
      " |  ----------------------------------------------------------------------\n",
      " |  Static methods defined here:\n",
      " |\n",
      " |  __new__(*args, **kwargs)\n",
      " |      Create and return a new object.  See help(type) for accurate signature.\n",
      " |\n",
      " |  ----------------------------------------------------------------------\n",
      " |  Data and other attributes defined here:\n",
      " |\n",
      " |  __hash__ = None\n",
      "\n"
     ]
    }
   ],
   "source": [
    "help(mylist)"
   ]
  },
  {
   "cell_type": "code",
   "execution_count": 25,
   "id": "d4b76949-77c6-448e-8cff-81a047d6c10f",
   "metadata": {},
   "outputs": [
    {
     "name": "stdout",
     "output_type": "stream",
     "text": [
      "[1, 2, 5]\n"
     ]
    }
   ],
   "source": [
    "# list slicing \n",
    "a=[1,2,5,8,11,15]\n",
    "print(a[0:3])"
   ]
  },
  {
   "cell_type": "code",
   "execution_count": 27,
   "id": "73c09bfc-7a12-4584-84d6-501e5fb331e3",
   "metadata": {},
   "outputs": [
    {
     "name": "stdout",
     "output_type": "stream",
     "text": [
      "[1, 2, 5, 8, 11, 15]\n"
     ]
    }
   ],
   "source": [
    "print(a[0::1])"
   ]
  },
  {
   "cell_type": "code",
   "execution_count": 28,
   "id": "9d2740e6-2510-4a3d-9a65-3cc7dd5da3ab",
   "metadata": {},
   "outputs": [
    {
     "name": "stdout",
     "output_type": "stream",
     "text": [
      "[1, 5, 11]\n"
     ]
    }
   ],
   "source": [
    "print(a[::2])"
   ]
  },
  {
   "cell_type": "code",
   "execution_count": 29,
   "id": "71b41160-c2e6-40b6-b6a3-84239470520f",
   "metadata": {},
   "outputs": [
    {
     "name": "stdout",
     "output_type": "stream",
     "text": [
      "15\n"
     ]
    }
   ],
   "source": [
    "print(a[-1])"
   ]
  },
  {
   "cell_type": "code",
   "execution_count": 31,
   "id": "48fb09e5-4e68-458c-8d9e-9b03af1736b2",
   "metadata": {},
   "outputs": [
    {
     "name": "stdout",
     "output_type": "stream",
     "text": [
      "1\n",
      "2\n",
      "3\n",
      "4\n",
      "5\n"
     ]
    }
   ],
   "source": [
    "# loop \n",
    "mylist=(1,2,3,4,5)\n",
    "for item in mylist:\n",
    "    print(item)"
   ]
  },
  {
   "cell_type": "code",
   "execution_count": 34,
   "id": "4749c08a-bc3e-4998-9644-18c23fe2ab27",
   "metadata": {},
   "outputs": [
    {
     "name": "stdout",
     "output_type": "stream",
     "text": [
      "0 1\n",
      "1 2\n",
      "2 3\n",
      "3 4\n",
      "4 5\n"
     ]
    }
   ],
   "source": [
    "# if we want index as well then we use enumerate\n",
    "mylist=(1,2,3,4,5)\n",
    "for idx, item in enumerate(mylist):\n",
    "    print(idx,item)"
   ]
  },
  {
   "cell_type": "code",
   "execution_count": 35,
   "id": "17207e13-1d36-4c73-ba1b-6e52bd9c356f",
   "metadata": {},
   "outputs": [
    {
     "name": "stdout",
     "output_type": "stream",
     "text": [
      "[1, 2, 3, 4, 'a', 'b', 'c', 'd']\n"
     ]
    }
   ],
   "source": [
    "# concatenation and merging list\n",
    "lista=[1,2,3,4]\n",
    "listb=['a','b','c','d']\n",
    "result=lista+listb\n",
    "print(result)"
   ]
  },
  {
   "cell_type": "code",
   "execution_count": 36,
   "id": "64e8688e-97b6-47ec-b106-73f94bc56b8f",
   "metadata": {},
   "outputs": [
    {
     "name": "stdout",
     "output_type": "stream",
     "text": [
      "(1, 'a')\n",
      "(2, 'b')\n",
      "(3, 'c')\n",
      "(4, 'd')\n"
     ]
    }
   ],
   "source": [
    "for items in zip(lista,listb):\n",
    "    print(items)"
   ]
  },
  {
   "cell_type": "code",
   "execution_count": 38,
   "id": "6735f05b-ab0b-4cdd-a59b-2073001c99fc",
   "metadata": {},
   "outputs": [
    {
     "name": "stdout",
     "output_type": "stream",
     "text": [
      "{1, 3, 4, 5, 6, 'a', 8}\n"
     ]
    }
   ],
   "source": [
    "# removinf dupllicate values\n",
    "mylist=[1,5,4,3,6,1,4,8,'a']\n",
    "seta=set(mylist)\n",
    "print(seta)"
   ]
  },
  {
   "cell_type": "code",
   "execution_count": 42,
   "id": "f3028bc5-44fd-4466-b303-a0cbc206ce81",
   "metadata": {},
   "outputs": [
    {
     "name": "stdout",
     "output_type": "stream",
     "text": [
      "(4, 'd')\n",
      "4\n",
      "d\n",
      "(4, 'd')\n",
      "4\n",
      "d\n"
     ]
    }
   ],
   "source": [
    "# nested list \n",
    "list_a=[[1,2,3],[7,5,[4,3,6]]]\n",
    "for item in list_a:\n",
    "    print(items)\n",
    "    for item in items:\n",
    "        print(item)\n",
    "  "
   ]
  },
  {
   "cell_type": "code",
   "execution_count": 43,
   "id": "de2c9f8b-eb02-4586-b4ff-e6cc216ece50",
   "metadata": {},
   "outputs": [
    {
     "name": "stdout",
     "output_type": "stream",
     "text": [
      "hello\n",
      "enthusiats!\n",
      "Let's\n",
      "dive\n",
      "deep\n",
      "into\n",
      "python\n",
      "['h', 'e', 'L', 'd', 'd', 'i', 'p']\n"
     ]
    }
   ],
   "source": [
    "# list comprehension\n",
    "test_sentence=\"hello enthusiats! Let's dive deep into python\"\n",
    "list_of_first_chars=[]\n",
    "for items in test_sentence.split():\n",
    "    print(items)\n",
    "    list_of_first_chars.append(items[0])\n",
    "print(list_of_first_chars)\n"
   ]
  },
  {
   "cell_type": "code",
   "execution_count": 45,
   "id": "56ef3d04-0dc3-4823-bf95-4a196f0a203a",
   "metadata": {},
   "outputs": [
    {
     "name": "stdout",
     "output_type": "stream",
     "text": [
      "['h', 'e', 'L', 'd', 'd', 'i', 'p']\n"
     ]
    }
   ],
   "source": [
    "# using list comprehension\n",
    "test_sentence=\"hello enthusiats! Let's dive deep into python\"\n",
    "list_of_first_chars_comp=[items[0] for items in test_sentence.split()]\n",
    "print(list_of_first_chars_comp)"
   ]
  },
  {
   "cell_type": "code",
   "execution_count": 48,
   "id": "a0d35595-e49a-4e63-8443-4ec7cea030d6",
   "metadata": {},
   "outputs": [
    {
     "name": "stdout",
     "output_type": "stream",
     "text": [
      "[1, 3, 5, 7]\n"
     ]
    }
   ],
   "source": [
    "mylist=[1,3,4,5,8,7,4]\n",
    "listodd=[items for items in mylist if items%2==1]\n",
    "print(listodd)"
   ]
  },
  {
   "cell_type": "code",
   "execution_count": 49,
   "id": "2f5e8552-f569-42ed-ba93-b5c80834a9f7",
   "metadata": {},
   "outputs": [
    {
     "name": "stdout",
     "output_type": "stream",
     "text": [
      "['e', 'L', 'd', 'd', 'i', 'p']\n"
     ]
    }
   ],
   "source": [
    "not_start_with_h=[items[0] for items in test_sentence.split() if items[0] not in ['h','H']]\n",
    "print(not_start_with_h)"
   ]
  },
  {
   "cell_type": "code",
   "execution_count": 50,
   "id": "ab8c4f12-c9bb-45db-95e8-d8d1aeb46657",
   "metadata": {},
   "outputs": [
    {
     "name": "stdout",
     "output_type": "stream",
     "text": [
      "[1, 4, 9, 16, 25]\n"
     ]
    }
   ],
   "source": [
    "# list is given from 1 to 5 \n",
    "mylist=[1,2,3,4,5]\n",
    "list2=[item**2 for item in mylist]\n",
    "print(list2)"
   ]
  },
  {
   "cell_type": "code",
   "execution_count": null,
   "id": "b17bae1b-0f2c-4a20-ab6b-ad927c29eca7",
   "metadata": {},
   "outputs": [],
   "source": []
  }
 ],
 "metadata": {
  "kernelspec": {
   "display_name": "Python 3 (ipykernel)",
   "language": "python",
   "name": "python3"
  },
  "language_info": {
   "codemirror_mode": {
    "name": "ipython",
    "version": 3
   },
   "file_extension": ".py",
   "mimetype": "text/x-python",
   "name": "python",
   "nbconvert_exporter": "python",
   "pygments_lexer": "ipython3",
   "version": "3.12.4"
  }
 },
 "nbformat": 4,
 "nbformat_minor": 5
}
