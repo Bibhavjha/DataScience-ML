{
 "cells": [
  {
   "cell_type": "code",
   "execution_count": 1,
   "id": "a5092be4-6494-452a-b1c0-de9571ba8355",
   "metadata": {},
   "outputs": [
    {
     "name": "stdout",
     "output_type": "stream",
     "text": [
      "['Sholay', 'Dark', 'Singham']\n"
     ]
    }
   ],
   "source": [
    "# create a  list of your favorite movies and print it. Then, append a new movie to the list and \n",
    "# print the updated list. \n",
    "mylist=['Sholay','Dark','Singham']\n",
    "print(mylist)"
   ]
  },
  {
   "cell_type": "code",
   "execution_count": 4,
   "id": "49f20e14-8162-4954-a433-c4c98912900d",
   "metadata": {},
   "outputs": [
    {
     "name": "stdout",
     "output_type": "stream",
     "text": [
      "['Sholay', 'Dark', 'Singham', 'Dhoom']\n"
     ]
    }
   ],
   "source": [
    "mylist.append('Dhoom')\n",
    "print(mylist)"
   ]
  },
  {
   "cell_type": "code",
   "execution_count": 5,
   "id": "a9441937-d163-4e2f-9658-ea6828028aec",
   "metadata": {},
   "outputs": [
    {
     "name": "stdout",
     "output_type": "stream",
     "text": [
      "(1, 2, 3, 4, 5, 6, 7, 8, 9, 10)\n",
      "55\n"
     ]
    }
   ],
   "source": [
    "#Create a list of integers from 1 to 10 and print it. Calculate the sum of all the numbers in \n",
    "# the list and print the result.\n",
    "intlist=(1,2,3,4,5,6,7,8,9,10)\n",
    "print(intlist)\n",
    "sum=0\n",
    "for x in intlist:\n",
    "    sum=sum+x\n",
    "print(sum)"
   ]
  },
  {
   "cell_type": "code",
   "execution_count": 8,
   "id": "9aca454d-a351-4154-93f6-ecd654d01ada",
   "metadata": {},
   "outputs": [
    {
     "name": "stdout",
     "output_type": "stream",
     "text": [
      "['Hello', 10, 25.2]\n",
      "[10, 25.2]\n"
     ]
    }
   ],
   "source": [
    "# Create a list of mixed data types including strings, integers, and floats and print it. Remove \n",
    "# the first element from the list and print the modified list.\n",
    "list1=['Hello',10,25.2]\n",
    "print(list1)\n",
    "list1.remove('Hello')\n",
    "print(list1)"
   ]
  },
  {
   "cell_type": "code",
   "execution_count": 9,
   "id": "381c1cdf-be30-4bc7-9fbf-17f5de207948",
   "metadata": {},
   "outputs": [
    {
     "name": "stdout",
     "output_type": "stream",
     "text": [
      "('sunday', 'monday', 'tuesday', 'wednusday', 'thursday', 'friday', 'saturday')\n",
      "tuesday\n"
     ]
    }
   ],
   "source": [
    "#Create a tuple containing the names of the days of the week and print it. Access and print \n",
    "# the name of the third day. \n",
    "tup1=('sunday','monday','tuesday','wednusday','thursday','friday','saturday')\n",
    "print(tup1)\n",
    "print(tup1[2])"
   ]
  },
  {
   "cell_type": "code",
   "execution_count": 15,
   "id": "364ae7e4-07e2-402c-b0e4-b25c46338d40",
   "metadata": {},
   "outputs": [
    {
     "name": "stdout",
     "output_type": "stream",
     "text": [
      "('red', 'blue', 'green', 'yello')\n",
      "yes,its contain\n"
     ]
    }
   ],
   "source": [
    "# Create a tuple of your favorite colors and print it. Check if a certain color is present in the \n",
    "# tuple and print the result.\n",
    "colors=('red','blue','green','yello')\n",
    "print(colors)\n",
    "if 'green' in colors:\n",
    "    print(\"yes,its contain\")\n",
    "else:\n",
    "    print(\"no, it doesnt contain\")\n",
    "    "
   ]
  },
  {
   "cell_type": "code",
   "execution_count": 18,
   "id": "19287d2d-7979-4683-bec6-3b49fbacb183",
   "metadata": {},
   "outputs": [
    {
     "name": "stdout",
     "output_type": "stream",
     "text": [
      "{'title': 'beyond time', 'author': 'j thomson', 'year': 2019}\n"
     ]
    }
   ],
   "source": [
    "# Create a dictionary representing the information of a book with keys \"title\", \"author\", and \n",
    "# \"year\" and print it. Update the year of the book and print the updated dictionary. \n",
    "book={'title':'beyond time','author':'j thomson','year':2019}\n",
    "print(book)"
   ]
  },
  {
   "cell_type": "code",
   "execution_count": 20,
   "id": "7105d8d6-2309-41aa-9b92-2c14eb32fb29",
   "metadata": {},
   "outputs": [
    {
     "name": "stdout",
     "output_type": "stream",
     "text": [
      "{'title': 'beyond time', 'author': 'j thomson', 'year': 2018}\n"
     ]
    }
   ],
   "source": [
    "book['year']=2018\n",
    "print(book)"
   ]
  },
  {
   "cell_type": "code",
   "execution_count": 21,
   "id": "a6d1b119-ca66-4497-b979-4246b740f934",
   "metadata": {},
   "outputs": [
    {
     "name": "stdout",
     "output_type": "stream",
     "text": [
      "{'appple': 'red', 'grape': 'green', 'banana': 'yellow'}\n"
     ]
    }
   ],
   "source": [
    "#  Create a dictionary containing the names of fruits as keys and their corresponding colors \n",
    "# as values and print it. Add a new fruit-color pair to the dictionary and print the updated \n",
    "# dictionary.\n",
    "fruits={'appple':'red','grape':'green','banana':'yellow'}\n",
    "print(fruits)"
   ]
  },
  {
   "cell_type": "code",
   "execution_count": 23,
   "id": "e11ea549-bc27-400a-b831-3f214def1574",
   "metadata": {},
   "outputs": [
    {
     "name": "stdout",
     "output_type": "stream",
     "text": [
      "{'appple': 'red', 'grape': 'green', 'banana': 'yellow', 'strawberry': 'pink'}\n"
     ]
    }
   ],
   "source": [
    "fruits[\"strawberry\"]=\"pink\"\n",
    "print(fruits)"
   ]
  },
  {
   "cell_type": "code",
   "execution_count": 24,
   "id": "8969c6d1-d857-4792-9d79-b67be993294b",
   "metadata": {},
   "outputs": [
    {
     "name": "stdout",
     "output_type": "stream",
     "text": [
      "{'ktm': 220000, 'brt': 180000, 'jnk': 140000}\n"
     ]
    }
   ],
   "source": [
    "# Create a dictionary representing the population of different cities with keys as city names \n",
    "# and values as population numbers and print it. Remove a city from the dictionary and print \n",
    "# the modified dictionary. \n",
    "city={\n",
    "    \"ktm\":220000,\n",
    "    \"brt\":180000,\n",
    "    \"jnk\":140000\n",
    "}\n",
    "print(city)"
   ]
  },
  {
   "cell_type": "code",
   "execution_count": 26,
   "id": "115c87dd-5c86-4be5-a257-98047d0dd0e9",
   "metadata": {},
   "outputs": [
    {
     "name": "stdout",
     "output_type": "stream",
     "text": [
      "{'ktm': 220000, 'jnk': 140000}\n"
     ]
    }
   ],
   "source": [
    "city.pop(\"brt\")\n",
    "print(city)"
   ]
  },
  {
   "cell_type": "code",
   "execution_count": 27,
   "id": "f0abbd21-0b85-424c-b342-b3b6f987e20e",
   "metadata": {},
   "outputs": [
    {
     "ename": "AttributeError",
     "evalue": "'dict' object has no attribute 'remove'",
     "output_type": "error",
     "traceback": [
      "\u001b[1;31m---------------------------------------------------------------------------\u001b[0m",
      "\u001b[1;31mAttributeError\u001b[0m                            Traceback (most recent call last)",
      "Cell \u001b[1;32mIn[27], line 1\u001b[0m\n\u001b[1;32m----> 1\u001b[0m city\u001b[38;5;241m.\u001b[39mremove(\u001b[38;5;124m\"\u001b[39m\u001b[38;5;124mjnk\u001b[39m\u001b[38;5;124m\"\u001b[39m)\n\u001b[0;32m      2\u001b[0m \u001b[38;5;28mprint\u001b[39m(city)\n",
      "\u001b[1;31mAttributeError\u001b[0m: 'dict' object has no attribute 'remove'"
     ]
    }
   ],
   "source": []
  },
  {
   "cell_type": "code",
   "execution_count": null,
   "id": "93c56e17-7691-4b2b-b18d-3711a6ed436c",
   "metadata": {},
   "outputs": [],
   "source": []
  }
 ],
 "metadata": {
  "kernelspec": {
   "display_name": "Python 3 (ipykernel)",
   "language": "python",
   "name": "python3"
  },
  "language_info": {
   "codemirror_mode": {
    "name": "ipython",
    "version": 3
   },
   "file_extension": ".py",
   "mimetype": "text/x-python",
   "name": "python",
   "nbconvert_exporter": "python",
   "pygments_lexer": "ipython3",
   "version": "3.12.4"
  }
 },
 "nbformat": 4,
 "nbformat_minor": 5
}
